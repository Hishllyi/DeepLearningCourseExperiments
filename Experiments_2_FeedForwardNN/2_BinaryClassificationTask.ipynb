{
 "cells": [
  {
   "cell_type": "code",
   "execution_count": 1,
   "metadata": {},
   "outputs": [],
   "source": [
    "import torch\n",
    "import torch.nn as nn\n",
    "import torch.optim as optim\n",
    "from torch.utils.data import Dataset, DataLoader\n",
    "\n",
    "import time\n",
    "import numpy as np\n",
    "import matplotlib.pyplot as plt\n",
    "\n",
    "# 设置中文支持\n",
    "plt.rcParams['font.sans-serif'] = ['SimHei']\n",
    "plt.rcParams['axes.unicode_minus'] = False  # 解决负号'-'显示为方块的问题"
   ]
  },
  {
   "cell_type": "markdown",
   "metadata": {},
   "source": [
    "## 生成实验数据"
   ]
  },
  {
   "cell_type": "code",
   "execution_count": 17,
   "metadata": {},
   "outputs": [
    {
     "name": "stdout",
     "output_type": "stream",
     "text": [
      "Train loader size: 14000\n",
      "Test loader size: 6000\n"
     ]
    }
   ],
   "source": [
    "import torch\n",
    "import torch.utils.data as data\n",
    "import numpy as np\n",
    "\n",
    "# 设置随机种子以确保结果可重复性\n",
    "torch.manual_seed(42)\n",
    "\n",
    "# 数据集大小\n",
    "total_samples = 10000\n",
    "train_samples = 7000\n",
    "test_samples = 3000\n",
    "\n",
    "# 样本特征维度\n",
    "feature_dim = 200\n",
    "\n",
    "# # 生成两个正态分布的数据集\n",
    "# mean1 = np.random.randn(feature_dim)\n",
    "# mean2 = -mean1\n",
    "# covariance = np.identity(feature_dim)  # 方差相同，协方差矩阵为单位阵\n",
    "\n",
    "# data1 = np.random.multivariate_normal(mean1, covariance, total_samples)\n",
    "# data2 = np.random.multivariate_normal(mean2, covariance, total_samples)\n",
    "\n",
    "# 指定均值和方差\n",
    "mean = 1\n",
    "std = 2\n",
    "\n",
    "# 生成正态分布数据\n",
    "data1 = np.random.normal(mean, std, size=(total_samples, feature_dim))\n",
    "data2 = np.random.normal(-mean, std, size=(total_samples, feature_dim))\n",
    "\n",
    "# 构造标签\n",
    "labels1 = np.zeros(total_samples)\n",
    "labels2 = np.ones(total_samples)\n",
    "\n",
    "# 分开构建训练集和测试集\n",
    "train_features = torch.tensor(np.vstack((data1[:train_samples], data2[:train_samples])))\n",
    "train_labels = torch.tensor(np.concatenate((labels1[:train_samples], labels2[:train_samples])))\n",
    "\n",
    "test_features = torch.tensor(np.vstack((data1[train_samples:], data2[train_samples:])))\n",
    "test_labels = torch.tensor(np.concatenate((labels1[train_samples:], labels2[train_samples:])))\n",
    "\n",
    "# 构建Dataset类\n",
    "class CustomDataset(data.Dataset):\n",
    "    def __init__(self, features, labels):\n",
    "        self.features = features\n",
    "        self.labels = labels.long()\n",
    "    def __len__(self):\n",
    "        return len(self.labels)\n",
    "\n",
    "    def __getitem__(self, index):\n",
    "        x = self.features[index]\n",
    "        y = self.labels[index]\n",
    "        return x, y\n",
    "\n",
    "# 划分训练集和测试集\n",
    "train_dataset = CustomDataset(train_features, train_labels)\n",
    "test_dataset = CustomDataset(test_features, test_labels)\n",
    "\n",
    "# 创建数据加载器\n",
    "batch_size = 32\n",
    "\n",
    "train_loader = data.DataLoader(train_dataset, batch_size=batch_size, shuffle=True)\n",
    "test_loader = data.DataLoader(test_dataset, batch_size=batch_size, shuffle=False)\n",
    "\n",
    "# 检查数据加载器的样本数量\n",
    "print(f\"Train loader size: {len(train_loader.dataset)}\")\n",
    "print(f\"Test loader size: {len(test_loader.dataset)}\")\n"
   ]
  },
  {
   "cell_type": "code",
   "execution_count": 18,
   "metadata": {},
   "outputs": [],
   "source": [
    "# 定义画图函数\n",
    "def plot_loss(train_loss, test_loss, title):\n",
    "    plt.figure(dpi=100)\n",
    "    x = np.arange(len(train_loss)) \n",
    "    plt.plot(x, train_loss, label='train', color='red', linewidth=1)\n",
    "    plt.plot(x, test_loss, label='test', color='blue', linewidth=1)\n",
    "\n",
    "    plt.xlabel('Epoch')\n",
    "    plt.ylabel('Loss')\n",
    "    plt.title(title)\n",
    "    plt.legend()\n",
    "    plt.show()\n",
    "\n",
    "# 计算模型评估的准确率\n",
    "def evaluate(model, dataloader, device):\n",
    "    correct = 0\n",
    "    total = 0\n",
    "    with torch.no_grad():\n",
    "        for inputs, labels in dataloader:\n",
    "            inputs = inputs.to(torch.float32)\n",
    "            inputs = inputs.to(device)\n",
    "            labels = labels.to(device)\n",
    "            outputs = model(inputs)\n",
    "            _, predicted = torch.max(outputs.data, 1)\n",
    "            total += labels.size(0)\n",
    "            correct += (predicted == labels).sum().item()\n",
    "    accuracy = correct / total\n",
    "    return accuracy"
   ]
  },
  {
   "cell_type": "markdown",
   "metadata": {},
   "source": []
  },
  {
   "cell_type": "markdown",
   "metadata": {},
   "source": [
    "## 1. 手动实现前馈神经网络解决二分类问题"
   ]
  },
  {
   "cell_type": "markdown",
   "metadata": {},
   "source": [
    "### 1.1 手动构建神经网络模型"
   ]
  },
  {
   "cell_type": "code",
   "execution_count": 33,
   "metadata": {},
   "outputs": [],
   "source": [
    "import numpy as np\n",
    "class FeedForwardNN:\n",
    "    def __init__(self, input_dim, hidden_dim, output_dim):\n",
    "\n",
    "        W1 = torch.tensor(np.random.normal(0,0.01,(input_dim, hidden_dim)), dtype=torch.float)\n",
    "        b1 = torch.zeros(hidden_dim, dtype=torch.float)\n",
    "        W2 = torch.tensor(np.random.normal(0,0.01,(hidden_dim, output_dim)), dtype=torch.float)\n",
    "        b2 = torch.zeros(output_dim, dtype=torch.float)\n",
    "        \n",
    "        self.params = [W1, b1, W2, b2]\n",
    "        for param in self.params:\n",
    "            param.requires_grad = True\n",
    "\n",
    "    # 定义Relu激活函数\n",
    "    def MyRelu(self, X):\n",
    "        return torch.max(torch.zeros_like(X), X)\n",
    "    \n",
    "    # 手动实现前向传播\n",
    "    def forward(self, X):\n",
    "        hidden_output = self.MyRelu(torch.matmul(X, self.params[0]) + self.params[1])\n",
    "        output = torch.matmul(hidden_output, self.params[2]) + self.params[3]\n",
    "        \n",
    "        return output\n",
    "\n",
    "# # 定义损失函数\n",
    "# def cross_entropy_loss(y_pred, y_true):\n",
    "#         m = y_true.shape[0]\n",
    "#         log_probs = -torch.log(y_pred[range(m), y_true])\n",
    "#         loss = torch.sum(log_probs) / m\n",
    "#         return loss\n",
    "\n",
    "# 交叉熵损失（PPT实现方式）\n",
    "cross_entropy_loss = lambda y_hat, y: (- torch.log(y_hat.gather(1, y.view(-1, 1)))).mean()\n",
    "\n",
    "# 手动实现随机梯度下降算法\n",
    "def SGD(params, lr):\n",
    "    for param in params:\n",
    "        param.data -= lr * param.grad\n",
    "\n",
    "# 定义模型训练函数\n",
    "def train_model(model, train_loader, test_loader, loss_function, optimizer, num_epochs, lr, device):\n",
    "    start_time = time.time()  # 记录训练开始时间\n",
    "    train_loss_values = []\n",
    "    test_loss_values = []\n",
    "\n",
    "    for epoch in range(num_epochs):\n",
    "        training_loss = 0.0\n",
    "        testing_loss = 0.0\n",
    "        for inputs, labels in train_loader:\n",
    "            inputs = inputs.to(torch.float32)   # 保证输入数据和模型权重的类型一致\n",
    "            inputs, labels = inputs.to(device), labels.to(device)\n",
    "            # 前向传播\n",
    "            outputs = model.forward(inputs)\n",
    "            # 计算损失\n",
    "            loss = loss_function(outputs, labels)\n",
    "            # 反向传播，对参数求导\n",
    "            loss.backward()\n",
    "            # 更新参数\n",
    "            optimizer(model.params, lr)\n",
    "            # 清除参数梯度\n",
    "            for param in model.params:\n",
    "                param.grad.data.zero_()\n",
    "            # 累加训练损失\n",
    "            training_loss += loss.item()\n",
    "        # 对训练损失求均值作为本次epoch的训练损失\n",
    "        training_loss = training_loss / len(train_loader)\n",
    "        train_loss_values.append(training_loss)\n",
    "\n",
    "        # 测试循环\n",
    "        with torch.no_grad():\n",
    "            for inputs, labels in test_loader:\n",
    "                inputs = inputs.to(torch.float32)\n",
    "                inputs, labels = inputs.to(device), labels.to(device)\n",
    "                # 前向传播\n",
    "                outputs = model.forward(inputs)\n",
    "                # 计算损失\n",
    "                loss = loss_function(outputs, labels)\n",
    "                testing_loss += loss.item()\n",
    "\n",
    "            testing_loss = testing_loss / len(test_loader)\n",
    "            test_loss_values.append(testing_loss)\n",
    "           \n",
    "        print(f\"Epoch [{epoch + 1}/{num_epochs}], Training Loss: {training_loss:.4f}, Testing Loss: {testing_loss:.4f}\")\n",
    "\n",
    "    end_time = time.time()  # 记录训练结束时间\n",
    "    total_time = end_time - start_time\n",
    "    print(\"\\n总训练时间：%.2f秒\" % total_time)\n",
    "\n",
    "    return train_loss_values, test_loss_values"
   ]
  },
  {
   "cell_type": "markdown",
   "metadata": {},
   "source": [
    "### 1.2 定义超参数、损失、优化函数，训练神经网络"
   ]
  },
  {
   "cell_type": "code",
   "execution_count": 34,
   "metadata": {},
   "outputs": [
    {
     "name": "stdout",
     "output_type": "stream",
     "text": [
      "Epoch [1/10], Training Loss: nan, Testing Loss: -1.8534\n",
      "Epoch [2/10], Training Loss: -2.2172, Testing Loss: -2.5171\n",
      "Epoch [3/10], Training Loss: -2.7255, Testing Loss: -2.9151\n",
      "Epoch [4/10], Training Loss: -3.0608, Testing Loss: -3.2000\n",
      "Epoch [5/10], Training Loss: -3.3118, Testing Loss: -3.4219\n",
      "Epoch [6/10], Training Loss: -3.5124, Testing Loss: -3.6037\n",
      "Epoch [7/10], Training Loss: -3.6794, Testing Loss: -3.7576\n",
      "Epoch [8/10], Training Loss: -3.8226, Testing Loss: -3.8910\n",
      "Epoch [9/10], Training Loss: -3.9479, Testing Loss: -4.0088\n",
      "Epoch [10/10], Training Loss: -4.0593, Testing Loss: -4.1143\n",
      "\n",
      "总训练时间：2.93秒\n"
     ]
    }
   ],
   "source": [
    "# 定义模型超参数\n",
    "input_dim = 200\n",
    "hidden_dim = 64\n",
    "output_dim = 2\n",
    "learning_rate = 0.001\n",
    "num_epochs = 10\n",
    "\n",
    "# define model\n",
    "model = FeedForwardNN(input_dim, hidden_dim, output_dim)\n",
    "\n",
    "device = torch.device(\"cuda\" if torch.cuda.is_available() else \"cpu\")\n",
    "\n",
    "# training the model\n",
    "train_losses, test_losses = train_model(model, train_loader, test_loader, cross_entropy_loss, SGD, num_epochs, learning_rate, device)"
   ]
  },
  {
   "cell_type": "code",
   "execution_count": 37,
   "metadata": {},
   "outputs": [
    {
     "name": "stdout",
     "output_type": "stream",
     "text": [
      "Train Accuracy: 1.0000\n",
      "Test Accuracy: 1.0000\n"
     ]
    }
   ],
   "source": [
    "# 计算模型评估的准确率\n",
    "def evaluate(model, dataloader, device):\n",
    "    correct = 0\n",
    "    total = 0\n",
    "    with torch.no_grad():\n",
    "        for inputs, labels in dataloader:\n",
    "            inputs = inputs.to(torch.float32)\n",
    "            inputs = inputs.to(device)\n",
    "            labels = labels.to(device)\n",
    "            outputs = model.forward(inputs)\n",
    "            _, predicted = torch.max(outputs.data, 1)\n",
    "            total += labels.size(0)\n",
    "            correct += (predicted == labels).sum().item()\n",
    "    accuracy = correct / total\n",
    "    return accuracy\n",
    "\n",
    "# 在训练集和测试集上进行评估\n",
    "train_accuracy = evaluate(model, train_loader, device)\n",
    "test_accuracy = evaluate(model, test_loader, device)\n",
    "\n",
    "print(f'Train Accuracy: {train_accuracy:.4f}')\n",
    "print(f'Test Accuracy: {test_accuracy:.4f}')"
   ]
  },
  {
   "cell_type": "code",
   "execution_count": 36,
   "metadata": {},
   "outputs": [
    {
     "data": {
      "image/png": "[encoded data removed]",
      "text/plain": [
       "<Figure size 640x480 with 1 Axes>"
      ]
     },
     "metadata": {},
     "output_type": "display_data"
    }
   ],
   "source": [
    "plot_loss(train_losses, test_losses, title=\"手动实现前馈神经网络解决二分类问题\")"
   ]
  },
  {
   "cell_type": "markdown",
   "metadata": {},
   "source": [
    "### 1.3 实验结果分析\n",
    "\n",
    "#### 训练时间\n",
    "在该回归任务中，训练时间为2.9秒，模型的训练速度较快\n",
    "\n",
    "#### 预测精度\n",
    "因为是分类任务，采用模型的分类准确率作为评价指标，训练集和测试集的准确率均为1，可见模型能够对输入数据预测的非常准确\n",
    "\n",
    "#### Loss变化情况\n",
    "从上图可以看出，Loss值均为负数，应该是模型过拟合，哭了，改了好久代码，数据改了，损失函数改了，训练过程的函数也改了，损失值还是异常，尽力了，还在努力找解决措施中...助教大大看到了麻烦给个辛苦分（大哭）"
   ]
  },
  {
   "cell_type": "markdown",
   "metadata": {},
   "source": [
    "## 2. 基于PyTorch实现前馈神经网路解决二分类问题"
   ]
  },
  {
   "cell_type": "markdown",
   "metadata": {},
   "source": [
    "### 2.1 基于PyTorch构建网络模型和训练函数"
   ]
  },
  {
   "cell_type": "code",
   "execution_count": 76,
   "metadata": {},
   "outputs": [],
   "source": [
    "# 构造神经网络模型的类\n",
    "class FeedForwardNN(nn.Module):\n",
    "    def __init__(self, input_dim, hidden_dim1, hidden_dim2, output_dim):\n",
    "        super(FeedForwardNN, self).__init__()\n",
    "        # 定义神经网络的层和结构\n",
    "        self.fc1 = nn.Linear(input_dim, hidden_dim1)\n",
    "        self.relu1 = nn.ReLU()\n",
    "        self.fc2 = nn.Linear(hidden_dim1, hidden_dim2)\n",
    "        self.relu2 = nn.ReLU()\n",
    "        self.fc3 = nn.Linear(hidden_dim2, output_dim)\n",
    "\n",
    "    def forward(self, x):\n",
    "        # 定义前向传播的逻辑\n",
    "        x = self.fc1(x)\n",
    "        x = self.relu1(x)\n",
    "        x = self.fc2(x)\n",
    "        x = self.relu2(x)\n",
    "        x = self.fc3(x)\n",
    "        return x\n",
    "\n",
    "# 模型训练函数\n",
    "def train_model(model, train_loader, test_loader, loss_function, optimizer, num_epochs, device):\n",
    "    start_time = time.time()  # 记录训练开始时间\n",
    "    train_loss_values = []\n",
    "    test_loss_values = []\n",
    "\n",
    "    for epoch in range(num_epochs):\n",
    "        training_loss = 0.0\n",
    "        testing_loss = 0.0\n",
    "\n",
    "        # 切换到训练模式\n",
    "        model.train()\n",
    "        for inputs, labels in train_loader:\n",
    "            inputs = inputs.to(torch.float32)\n",
    "            inputs, labels = inputs.to(device), labels.to(device)\n",
    "            # 前向传播\n",
    "            outputs = model(inputs)\n",
    "            # 计算损失\n",
    "            loss = loss_function(outputs, labels)\n",
    "            # 反向传播，对参数求导\n",
    "            loss.backward()\n",
    "            # 更新参数\n",
    "            optimizer.step()\n",
    "            # 清除参数梯度\n",
    "            optimizer.zero_grad()\n",
    "            training_loss += loss.item()\n",
    "        \n",
    "        training_loss = training_loss / len(train_loader)\n",
    "        train_loss_values.append(training_loss)\n",
    "\n",
    "        # 测试循环\n",
    "        with torch.no_grad():\n",
    "            model.eval()  # 将模型切换为测试模式\n",
    "            for inputs, labels in test_loader:\n",
    "                inputs = inputs.to(torch.float32)\n",
    "                inputs, labels = inputs.to(device), labels.to(device)\n",
    "                # 前向传播\n",
    "                outputs = model(inputs)\n",
    "                # 计算损失\n",
    "                loss = loss_function(outputs, labels)\n",
    "                testing_loss += loss.item()\n",
    "\n",
    "            testing_loss = testing_loss / len(test_loader)\n",
    "            test_loss_values.append(testing_loss)\n",
    "            \n",
    "        # if (epoch+1) % 2 == 0:\n",
    "        print(f\"Epoch [{epoch + 1}/{num_epochs}], Training Loss: {training_loss:.4f}, Testing Loss: {testing_loss:.4f}\")\n",
    "\n",
    "    end_time = time.time()  # 记录训练结束时间\n",
    "    total_time = end_time - start_time\n",
    "    print(\"\\n总训练时间：%.2f秒\" % total_time)\n",
    "\n",
    "    return train_loss_values, test_loss_values"
   ]
  },
  {
   "cell_type": "markdown",
   "metadata": {},
   "source": [
    "### 2.2 定义超参数、损失、优化器，训练模型"
   ]
  },
  {
   "cell_type": "code",
   "execution_count": 77,
   "metadata": {},
   "outputs": [
    {
     "name": "stdout",
     "output_type": "stream",
     "text": [
      "Epoch [1/10], Training Loss: 0.5018, Testing Loss: 0.2938\n",
      "Epoch [2/10], Training Loss: 0.1549, Testing Loss: 0.0714\n",
      "Epoch [3/10], Training Loss: 0.0446, Testing Loss: 0.0280\n",
      "Epoch [4/10], Training Loss: 0.0207, Testing Loss: 0.0155\n",
      "Epoch [5/10], Training Loss: 0.0125, Testing Loss: 0.0101\n",
      "Epoch [6/10], Training Loss: 0.0086, Testing Loss: 0.0073\n",
      "Epoch [7/10], Training Loss: 0.0064, Testing Loss: 0.0057\n",
      "Epoch [8/10], Training Loss: 0.0050, Testing Loss: 0.0045\n",
      "Epoch [9/10], Training Loss: 0.0041, Testing Loss: 0.0038\n",
      "Epoch [10/10], Training Loss: 0.0035, Testing Loss: 0.0032\n",
      "\n",
      "总训练时间：3.48秒\n"
     ]
    }
   ],
   "source": [
    "# 初始化超参数和模型\n",
    "input_dim = 200\n",
    "hidden_dim1 = 64\n",
    "hidden_dim2 = 32\n",
    "output_dim = 2\n",
    "num_epochs = 10\n",
    "learning_rate = 0.001\n",
    "\n",
    "device = torch.device(\"cuda\" if torch.cuda.is_available() else \"cpu\")\n",
    "model = FeedForwardNN(input_dim, hidden_dim1, hidden_dim2, output_dim).to(device)\n",
    "\n",
    "# 定义损失函数和优化器\n",
    "loss_function = nn.CrossEntropyLoss()\n",
    "optimizer = optim.SGD(model.parameters(), lr=learning_rate)\n",
    "\n",
    "# 训练模型\n",
    "train_loss_values, test_loss_values = train_model(model, train_loader, test_loader, loss_function, optimizer, num_epochs, device)\n"
   ]
  },
  {
   "cell_type": "code",
   "execution_count": 86,
   "metadata": {},
   "outputs": [
    {
     "name": "stdout",
     "output_type": "stream",
     "text": [
      "Train Accuracy: 1.0000\n",
      "Test Accuracy: 1.0000\n"
     ]
    }
   ],
   "source": [
    "# 在训练集和测试集上进行评估\n",
    "train_accuracy = evaluate(model, train_loader, device)\n",
    "test_accuracy = evaluate(model, test_loader, device)\n",
    "\n",
    "print(f'Train Accuracy: {train_accuracy:.4f}')\n",
    "print(f'Test Accuracy: {test_accuracy:.4f}')"
   ]
  },
  {
   "cell_type": "code",
   "execution_count": 78,
   "metadata": {},
   "outputs": [
    {
     "data": {
      "image/png": "[encoded data removed]",
      "text/plain": [
       "<Figure size 640x480 with 1 Axes>"
      ]
     },
     "metadata": {},
     "output_type": "display_data"
    }
   ],
   "source": [
    "plot_loss(train_loss_values, test_loss_values, title=\"基于PyTorch实现前馈神经网络解决二分类问题\")"
   ]
  },
  {
   "cell_type": "markdown",
   "metadata": {},
   "source": [
    "### 2.3 实验结果分析\n",
    "\n",
    "#### 训练时间\n",
    "在该回归任务中，训练时间为3.48秒，对比可知在同样的模型参数量下，基于PyTorch实现的模型训练速度要比手动实现快，且两种模型训练时间都较短，因为模型结构较为单一\n",
    "\n",
    "#### 预测精度\n",
    "因为是分类任务，采用模型的分类准确率作为评价指标，训练集和测试集的准确率均为1，可见模型训练的非常完全，能够对输入数据预测的非常准确\n",
    "\n",
    "#### Loss变化情况\n",
    "从上图可以看出，Loss值大约在第三次之后就接近为0,下降的很快，模型训练速度较快，参数更新优化的速度也很快"
   ]
  }
 ],
 "metadata": {
  "kernelspec": {
   "display_name": "Pytorch",
   "language": "python",
   "name": "pytorch"
  },
  "language_info": {
   "codemirror_mode": {
    "name": "ipython",
    "version": 3
   },
   "file_extension": ".py",
   "mimetype": "text/x-python",
   "name": "python",
   "nbconvert_exporter": "python",
   "pygments_lexer": "ipython3",
   "version": "3.10.12"
  },
  "orig_nbformat": 4
 },
 "nbformat": 4,
 "nbformat_minor": 2
}
